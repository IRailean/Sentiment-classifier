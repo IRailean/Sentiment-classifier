{
 "cells": [
  {
   "cell_type": "code",
   "execution_count": 9,
   "metadata": {},
   "outputs": [
    {
     "data": {
      "text/plain": [
       "{'tasks': [{'description': 'Milk, Cheese, Pizza, Fruit, Tylenol',\n",
       "   'done': False,\n",
       "   'id': 1,\n",
       "   'title': 'Buy groceries'},\n",
       "  {'description': 'Need to find a good Python tutorial on the web',\n",
       "   'done': False,\n",
       "   'id': 2,\n",
       "   'title': 'Learn Python'}]}"
      ]
     },
     "execution_count": 9,
     "metadata": {},
     "output_type": "execute_result"
    }
   ],
   "source": [
    "import requests\n",
    "url = \"http://localhost:5000/tasks\"\n",
    "response = requests.get(url).json()\n",
    "response"
   ]
  },
  {
   "cell_type": "code",
   "execution_count": 25,
   "metadata": {},
   "outputs": [
    {
     "name": "stdout",
     "output_type": "stream",
     "text": [
      "Status code:  200\n",
      "{'task': {'description': 'Need to find a good Python tutorial on the web', 'done': False, 'id': 2, 'title': 'Learn Python'}}\n"
     ]
    }
   ],
   "source": [
    "url = \"http://localhost:5000/tasks/2\"\n",
    "response = requests.get(url)\n",
    "print(\"Status code: \", response.status_code)\n",
    "if 200 == response.status_code:\n",
    "    print(response.json())"
   ]
  },
  {
   "cell_type": "code",
   "execution_count": null,
   "metadata": {},
   "outputs": [],
   "source": []
  }
 ],
 "metadata": {
  "kernelspec": {
   "display_name": "Python 3",
   "language": "python",
   "name": "python3"
  },
  "language_info": {
   "codemirror_mode": {
    "name": "ipython",
    "version": 3
   },
   "file_extension": ".py",
   "mimetype": "text/x-python",
   "name": "python",
   "nbconvert_exporter": "python",
   "pygments_lexer": "ipython3",
   "version": "3.7.3"
  }
 },
 "nbformat": 4,
 "nbformat_minor": 4
}
