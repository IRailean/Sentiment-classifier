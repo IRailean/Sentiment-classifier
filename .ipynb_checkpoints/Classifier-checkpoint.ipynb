{
 "cells": [
  {
   "cell_type": "code",
   "execution_count": 4,
   "metadata": {},
   "outputs": [],
   "source": [
    "import pandas as pd\n",
    "from pathlib import Path"
   ]
  },
  {
   "cell_type": "code",
   "execution_count": 5,
   "metadata": {},
   "outputs": [],
   "source": [
    "df = pd.read_csv(Path.cwd()/'trustpilot/trustpilot/spiders/comments_trustpilot_en.csv')"
   ]
  },
  {
   "cell_type": "code",
   "execution_count": 16,
   "metadata": {},
   "outputs": [
    {
     "data": {
      "text/html": [
       "<div>\n",
       "<style scoped>\n",
       "    .dataframe tbody tr th:only-of-type {\n",
       "        vertical-align: middle;\n",
       "    }\n",
       "\n",
       "    .dataframe tbody tr th {\n",
       "        vertical-align: top;\n",
       "    }\n",
       "\n",
       "    .dataframe thead th {\n",
       "        text-align: right;\n",
       "    }\n",
       "</style>\n",
       "<table border=\"1\" class=\"dataframe\">\n",
       "  <thead>\n",
       "    <tr style=\"text-align: right;\">\n",
       "      <th></th>\n",
       "      <th>comment</th>\n",
       "      <th>rating</th>\n",
       "      <th>url_website</th>\n",
       "      <th>company_name</th>\n",
       "      <th>company_website</th>\n",
       "      <th>company_logo</th>\n",
       "    </tr>\n",
       "  </thead>\n",
       "  <tbody>\n",
       "    <tr>\n",
       "      <th>0</th>\n",
       "      <td>Microsoft though struggling to keep up with th...</td>\n",
       "      <td>5</td>\n",
       "      <td>https://www.trustpilot.com/review/stagingmybud...</td>\n",
       "      <td>Microsoft</td>\n",
       "      <td>http://stagingmybuddiesplace.azurewebsites.net...</td>\n",
       "      <td>//s3-eu-west-1.amazonaws.com/tpd/screenshots/5...</td>\n",
       "    </tr>\n",
       "    <tr>\n",
       "      <th>1</th>\n",
       "      <td>We are NY transplants who have visited Montere...</td>\n",
       "      <td>5</td>\n",
       "      <td>https://www.trustpilot.com/review/montereyanim...</td>\n",
       "      <td>Monterey Animal Clinic</td>\n",
       "      <td>http://montereyanimalclinic.com?utm_medium=com...</td>\n",
       "      <td>//s3-eu-west-1.amazonaws.com/tpd/logos/5cb3b8d...</td>\n",
       "    </tr>\n",
       "    <tr>\n",
       "      <th>2</th>\n",
       "      <td>My pet dog was almost dying, but I got emergen...</td>\n",
       "      <td>5</td>\n",
       "      <td>https://www.trustpilot.com/review/ocvh.com</td>\n",
       "      <td>Ocean County Veterinary Hospital</td>\n",
       "      <td>http://ocvh.com?utm_medium=company_profile&amp;utm...</td>\n",
       "      <td>//s3-eu-west-1.amazonaws.com/tpd/screenshots/5...</td>\n",
       "    </tr>\n",
       "    <tr>\n",
       "      <th>3</th>\n",
       "      <td>I have nothing but amazing things to say about...</td>\n",
       "      <td>5</td>\n",
       "      <td>https://www.trustpilot.com/review/montereyanim...</td>\n",
       "      <td>Monterey Animal Clinic</td>\n",
       "      <td>http://montereyanimalclinic.com?utm_medium=com...</td>\n",
       "      <td>//s3-eu-west-1.amazonaws.com/tpd/logos/5cb3b8d...</td>\n",
       "    </tr>\n",
       "    <tr>\n",
       "      <th>4</th>\n",
       "      <td>Was a great experience for my roommate Bethany...</td>\n",
       "      <td>5</td>\n",
       "      <td>https://www.trustpilot.com/review/montereyanim...</td>\n",
       "      <td>Monterey Animal Clinic</td>\n",
       "      <td>http://montereyanimalclinic.com?utm_medium=com...</td>\n",
       "      <td>//s3-eu-west-1.amazonaws.com/tpd/logos/5cb3b8d...</td>\n",
       "    </tr>\n",
       "  </tbody>\n",
       "</table>\n",
       "</div>"
      ],
      "text/plain": [
       "                                             comment  rating  \\\n",
       "0  Microsoft though struggling to keep up with th...       5   \n",
       "1  We are NY transplants who have visited Montere...       5   \n",
       "2  My pet dog was almost dying, but I got emergen...       5   \n",
       "3  I have nothing but amazing things to say about...       5   \n",
       "4  Was a great experience for my roommate Bethany...       5   \n",
       "\n",
       "                                         url_website  \\\n",
       "0  https://www.trustpilot.com/review/stagingmybud...   \n",
       "1  https://www.trustpilot.com/review/montereyanim...   \n",
       "2         https://www.trustpilot.com/review/ocvh.com   \n",
       "3  https://www.trustpilot.com/review/montereyanim...   \n",
       "4  https://www.trustpilot.com/review/montereyanim...   \n",
       "\n",
       "                        company_name  \\\n",
       "0                          Microsoft   \n",
       "1             Monterey Animal Clinic   \n",
       "2  Ocean County Veterinary Hospital    \n",
       "3             Monterey Animal Clinic   \n",
       "4             Monterey Animal Clinic   \n",
       "\n",
       "                                     company_website  \\\n",
       "0  http://stagingmybuddiesplace.azurewebsites.net...   \n",
       "1  http://montereyanimalclinic.com?utm_medium=com...   \n",
       "2  http://ocvh.com?utm_medium=company_profile&utm...   \n",
       "3  http://montereyanimalclinic.com?utm_medium=com...   \n",
       "4  http://montereyanimalclinic.com?utm_medium=com...   \n",
       "\n",
       "                                        company_logo  \n",
       "0  //s3-eu-west-1.amazonaws.com/tpd/screenshots/5...  \n",
       "1  //s3-eu-west-1.amazonaws.com/tpd/logos/5cb3b8d...  \n",
       "2  //s3-eu-west-1.amazonaws.com/tpd/screenshots/5...  \n",
       "3  //s3-eu-west-1.amazonaws.com/tpd/logos/5cb3b8d...  \n",
       "4  //s3-eu-west-1.amazonaws.com/tpd/logos/5cb3b8d...  "
      ]
     },
     "execution_count": 16,
     "metadata": {},
     "output_type": "execute_result"
    }
   ],
   "source": [
    "df.head()"
   ]
  },
  {
   "cell_type": "code",
   "execution_count": null,
   "metadata": {},
   "outputs": [],
   "source": []
  }
 ],
 "metadata": {
  "kernelspec": {
   "display_name": "Python 3",
   "language": "python",
   "name": "python3"
  },
  "language_info": {
   "codemirror_mode": {
    "name": "ipython",
    "version": 3
   },
   "file_extension": ".py",
   "mimetype": "text/x-python",
   "name": "python",
   "nbconvert_exporter": "python",
   "pygments_lexer": "ipython3",
   "version": "3.7.3"
  }
 },
 "nbformat": 4,
 "nbformat_minor": 4
}
